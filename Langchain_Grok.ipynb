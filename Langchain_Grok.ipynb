{
  "nbformat": 4,
  "nbformat_minor": 0,
  "metadata": {
    "colab": {
      "provenance": [],
      "authorship_tag": "ABX9TyOdIOHbyBeo95v+QduukIy3",
      "include_colab_link": true
    },
    "kernelspec": {
      "name": "python3",
      "display_name": "Python 3"
    },
    "language_info": {
      "name": "python"
    }
  },
  "cells": [
    {
      "cell_type": "markdown",
      "metadata": {
        "id": "view-in-github",
        "colab_type": "text"
      },
      "source": [
        "<a href=\"https://colab.research.google.com/github/jai8004/Av-tuts/blob/main/Langchain_Grok.ipynb\" target=\"_parent\"><img src=\"https://colab.research.google.com/assets/colab-badge.svg\" alt=\"Open In Colab\"/></a>"
      ]
    },
    {
      "cell_type": "markdown",
      "source": [
        "## Installing  Important Libraries"
      ],
      "metadata": {
        "id": "PzXlKRuI07sQ"
      }
    },
    {
      "cell_type": "code",
      "source": [
        "# !pip install -U langchain-community\n",
        "# !pip install langchain\n",
        "# !pip install -U langchain-groq"
      ],
      "metadata": {
        "id": "pls9qOarwDTo"
      },
      "execution_count": 4,
      "outputs": []
    },
    {
      "cell_type": "code",
      "execution_count": 6,
      "metadata": {
        "id": "8tIZXcG05iEG"
      },
      "outputs": [],
      "source": [
        "# from google.colab import userdata\n"
      ]
    },
    {
      "cell_type": "markdown",
      "source": [
        "#### Setting up GROQ API KEY"
      ],
      "metadata": {
        "id": "B5_r6ZxT1BrT"
      }
    },
    {
      "cell_type": "markdown",
      "source": [
        "Use the following website to  generate API keys https://console.groq.com/home"
      ],
      "metadata": {
        "id": "t3iLzzeK1GPJ"
      }
    },
    {
      "cell_type": "code",
      "source": [
        "import getpass\n",
        "import os\n",
        "\n",
        "if \"GROQ_API_KEY\" not in os.environ:\n",
        "    os.environ[\"GROQ_API_KEY\"] = getpass.getpass(\"Enter your Groq API key: \")"
      ],
      "metadata": {
        "id": "Ejxg3AyZ6p4S"
      },
      "execution_count": 7,
      "outputs": []
    },
    {
      "cell_type": "code",
      "source": [
        "from langchain_groq import ChatGroq\n",
        "\n",
        "#creating an LLM instance\n",
        "llm = ChatGroq(\n",
        "    model=\"deepseek-r1-distill-llama-70b\",\n",
        "    temperature=0,\n",
        "    max_tokens=None,\n",
        "    reasoning_format=\"parsed\",\n",
        "    timeout=None,\n",
        "    max_retries=2,\n",
        "    # other params...\n",
        ")"
      ],
      "metadata": {
        "id": "Wt3SY5dPxLa4"
      },
      "execution_count": 8,
      "outputs": []
    },
    {
      "cell_type": "code",
      "source": [
        "#Defineing Messages for LLMs\n",
        "messages = [\n",
        "    (\n",
        "        \"system\",\n",
        "        \"You are a helpful assistant that translates English to French. Translate the user sentence.\",\n",
        "    ),\n",
        "    (\"human\", \"I love programming.\"),\n",
        "]\n",
        "ai_msg = llm.invoke(messages)\n",
        "ai_msg"
      ],
      "metadata": {
        "colab": {
          "base_uri": "https://localhost:8080/"
        },
        "id": "_z2U9syrxZ6E",
        "outputId": "892e8042-d9a4-4558-dd90-e5cdb5ea7508"
      },
      "execution_count": 9,
      "outputs": [
        {
          "output_type": "execute_result",
          "data": {
            "text/plain": [
              "AIMessage(content=\"J'aime programmer.\", additional_kwargs={'reasoning_content': 'Okay, so I need to translate the sentence \"I love programming.\" into French. Let me think about how to approach this. \\n\\nFirst, I know that \"I\" in French is \"Je.\" That\\'s straightforward. Next, \"love\" translates to \"aime\" when referring to a singular subject like \"I.\" So, \"I love\" becomes \"J\\'aime.\" \\n\\nNow, the tricky part is \"programming.\" In French, the word for programming is \"la programmation.\" But wait, in French, when you love something, you often use the verb \"aime\" followed by the preposition \"à\" and then the infinitive form of the verb. So, \"I love programming\" would be \"J\\'aime programmer.\" \\n\\nWait, but sometimes people might say \"J\\'aime la programmation\" as well. Which one is more correct? I think both are correct, but \"J\\'aime programmer\" is more direct because it uses the infinitive form after the verb \"aime.\" \\n\\nLet me double-check. In French, when you love an activity, you can say \"J\\'aime + infinitive.\" For example, \"J\\'aime nager\" means \"I love swimming.\" So, applying that, \"J\\'aime programmer\" should be correct. \\n\\nAlternatively, \"J\\'aime la programmation\" is also correct because \"la programmation\" is the noun form. So both sentences are acceptable, but \"J\\'aime programmer\" is more concise and directly uses the infinitive, which is common in such expressions. \\n\\nI think I\\'ll go with \"J\\'aime programmer\" because it\\'s more direct and uses the infinitive form, which is standard in such sentences.\\n'}, response_metadata={'token_usage': {'completion_tokens': 363, 'prompt_tokens': 23, 'total_tokens': 386, 'completion_time': 1.32, 'prompt_time': 0.000984493, 'queue_time': 0.208411934, 'total_time': 1.320984493}, 'model_name': 'deepseek-r1-distill-llama-70b', 'system_fingerprint': 'fp_1bbe7845ec', 'finish_reason': 'stop', 'logprobs': None}, id='run--bd420876-9adb-4680-826c-b9d9e339376b-0', usage_metadata={'input_tokens': 23, 'output_tokens': 363, 'total_tokens': 386})"
            ]
          },
          "metadata": {},
          "execution_count": 9
        }
      ]
    },
    {
      "cell_type": "code",
      "source": [
        "print(ai_msg.content)"
      ],
      "metadata": {
        "colab": {
          "base_uri": "https://localhost:8080/"
        },
        "id": "JJnvBPYF0XFf",
        "outputId": "848685f9-210e-413f-fb9a-2a71078cac3a"
      },
      "execution_count": 10,
      "outputs": [
        {
          "output_type": "stream",
          "name": "stdout",
          "text": [
            "J'aime programmer.\n"
          ]
        }
      ]
    },
    {
      "cell_type": "code",
      "source": [
        "from langchain_core.prompts import ChatPromptTemplate\n",
        "\n",
        "#Using Langchain Prompt Template\n",
        "prompt = ChatPromptTemplate.from_messages(\n",
        "    [\n",
        "        (\n",
        "            \"system\",\n",
        "            \"You are a helpful assistant that translates {input_language} to {output_language}.\",\n",
        "        ),\n",
        "        (\"human\", \"{input}\"),\n",
        "    ]\n",
        ")\n",
        "\n",
        "chain = prompt | llm\n",
        "ai_response = chain.invoke(\n",
        "    {\n",
        "        \"input_language\": \"English\",\n",
        "        \"output_language\": \"German\",\n",
        "        \"input\": \"I love programming.\",\n",
        "    }\n",
        ")"
      ],
      "metadata": {
        "id": "oFQyKn2j0dGV"
      },
      "execution_count": 12,
      "outputs": []
    },
    {
      "cell_type": "code",
      "source": [
        "# LLM Full Response\n",
        "ai_response.content"
      ],
      "metadata": {
        "colab": {
          "base_uri": "https://localhost:8080/"
        },
        "id": "FemXvs2s0m1r",
        "outputId": "462b2204-1b71-4c15-f38e-78c5e967c28e"
      },
      "execution_count": 13,
      "outputs": [
        {
          "output_type": "execute_result",
          "data": {
            "text/plain": [
              "AIMessage(content='The translation of \"I love programming.\" into German is:\\n\\n\"Ich liebe das Programmieren.\"', additional_kwargs={'reasoning_content': 'Okay, so I need to translate the sentence \"I love programming.\" into German. Hmm, let\\'s break this down. \\n\\nFirst, \"I\" in German is \"Ich.\" That\\'s straightforward. Now, \"love\" translates to \"liebe.\" So putting that together, it would be \"Ich liebe.\" \\n\\nNext, \"programming\" is a noun, and in German, the word for programming is \"Programmieren.\" Wait, but sometimes in German, they might use \"das Programmieren\" as the noun form. So, putting it all together, it should be \"Ich liebe das Programmieren.\" \\n\\nWait, but sometimes people might say \"Ich liebe Programmieren\" without the article \"das.\" Is that correct? I think both are acceptable, but including \"das\" makes it more specific. \\n\\nLet me double-check. In German, when talking about activities, you can often omit the article, so \"Ich liebe Programmieren\" is also correct. But including \"das\" makes it \"Ich liebe das Programmieren,\" which is also correct and perhaps a bit more formal. \\n\\nI think the most natural way is to include \"das\" because it\\'s referring to the activity as a whole. So the translation would be \"Ich liebe das Programmieren.\" \\n\\nWait, but sometimes people might use \"die Programmierung\" as the noun. Is that the same? Let me think. \"Programmieren\" is the infinitive verb, and \"Programmierung\" is the noun form. So \"Ich liebe die Programmierung\" would also be correct. \\n\\nHmm, so which one is more commonly used? I think \"Programmieren\" is more commonly used in this context when talking about the activity. So \"Ich liebe das Programmieren\" is probably the best translation. \\n\\nAlternatively, \"Ich liebe Programmieren\" without the article is also widely used and accepted. So both are correct, but maybe the version without \"das\" is more conversational. \\n\\nI think I\\'ll go with \"Ich liebe das Programmieren\" because it\\'s clear and includes the article, making it a complete sentence. \\n\\nWait, but in German, when you say \"Ich liebe...\" followed by a noun, you need the article. So \"Ich liebe das Programmieren\" is correct because \"Programmieren\" is a noun in this context. \\n\\nYes, that makes sense. So the correct translation is \"Ich liebe das Programmieren.\"\\n'}, response_metadata={'token_usage': {'completion_tokens': 520, 'prompt_tokens': 18, 'total_tokens': 538, 'completion_time': 2.459928376, 'prompt_time': 0.000656519, 'queue_time': 0.200480248, 'total_time': 2.460584895}, 'model_name': 'deepseek-r1-distill-llama-70b', 'system_fingerprint': 'fp_1bbe7845ec', 'finish_reason': 'stop', 'logprobs': None}, id='run--ff275a69-6dc6-4dcd-b2ec-5aab9b5364cc-0', usage_metadata={'input_tokens': 18, 'output_tokens': 520, 'total_tokens': 538})"
            ]
          },
          "metadata": {},
          "execution_count": 13
        }
      ]
    },
    {
      "cell_type": "code",
      "source": [
        "#  LLM Answer\n",
        "ai_response.content"
      ],
      "metadata": {
        "colab": {
          "base_uri": "https://localhost:8080/",
          "height": 35
        },
        "id": "7TvvYEKt0q79",
        "outputId": "18dfab45-2de4-495e-cc48-03aa30698cc4"
      },
      "execution_count": 14,
      "outputs": [
        {
          "output_type": "execute_result",
          "data": {
            "text/plain": [
              "'The translation of \"I love programming.\" into German is:\\n\\n\"Ich liebe das Programmieren.\"'"
            ],
            "application/vnd.google.colaboratory.intrinsic+json": {
              "type": "string"
            }
          },
          "metadata": {},
          "execution_count": 14
        }
      ]
    },
    {
      "cell_type": "code",
      "source": [
        "# LLM Reasoning how it generated the answer and what it understood about the question\n",
        "ai_response.additional_kwargs['reasoning_content']"
      ],
      "metadata": {
        "colab": {
          "base_uri": "https://localhost:8080/",
          "height": 105
        },
        "id": "p-JEi8yU0q5P",
        "outputId": "c11b56f0-1bae-4b58-ce75-85dae47479c4"
      },
      "execution_count": 18,
      "outputs": [
        {
          "output_type": "execute_result",
          "data": {
            "text/plain": [
              "'Okay, so I need to translate the sentence \"I love programming.\" into German. Hmm, let\\'s break this down. \\n\\nFirst, \"I\" in German is \"Ich.\" That\\'s straightforward. Now, \"love\" translates to \"liebe.\" So putting that together, it would be \"Ich liebe.\" \\n\\nNext, \"programming\" is a noun, and in German, the word for programming is \"Programmieren.\" Wait, but sometimes in German, they might use \"das Programmieren\" as the noun form. So, putting it all together, it should be \"Ich liebe das Programmieren.\" \\n\\nWait, but sometimes people might say \"Ich liebe Programmieren\" without the article \"das.\" Is that correct? I think both are acceptable, but including \"das\" makes it more specific. \\n\\nLet me double-check. In German, when talking about activities, you can often omit the article, so \"Ich liebe Programmieren\" is also correct. But including \"das\" makes it \"Ich liebe das Programmieren,\" which is also correct and perhaps a bit more formal. \\n\\nI think the most natural way is to include \"das\" because it\\'s referring to the activity as a whole. So the translation would be \"Ich liebe das Programmieren.\" \\n\\nWait, but sometimes people might use \"die Programmierung\" as the noun. Is that the same? Let me think. \"Programmieren\" is the infinitive verb, and \"Programmierung\" is the noun form. So \"Ich liebe die Programmierung\" would also be correct. \\n\\nHmm, so which one is more commonly used? I think \"Programmieren\" is more commonly used in this context when talking about the activity. So \"Ich liebe das Programmieren\" is probably the best translation. \\n\\nAlternatively, \"Ich liebe Programmieren\" without the article is also widely used and accepted. So both are correct, but maybe the version without \"das\" is more conversational. \\n\\nI think I\\'ll go with \"Ich liebe das Programmieren\" because it\\'s clear and includes the article, making it a complete sentence. \\n\\nWait, but in German, when you say \"Ich liebe...\" followed by a noun, you need the article. So \"Ich liebe das Programmieren\" is correct because \"Programmieren\" is a noun in this context. \\n\\nYes, that makes sense. So the correct translation is \"Ich liebe das Programmieren.\"\\n'"
            ],
            "application/vnd.google.colaboratory.intrinsic+json": {
              "type": "string"
            }
          },
          "metadata": {},
          "execution_count": 18
        }
      ]
    },
    {
      "cell_type": "code",
      "source": [
        "# API cost and time involved in generation of the response\n",
        "ai_response.response_metadata"
      ],
      "metadata": {
        "colab": {
          "base_uri": "https://localhost:8080/"
        },
        "id": "fb747WB-0q2g",
        "outputId": "3eb204e5-bf5b-4cdf-f17e-b6e98c8d6781"
      },
      "execution_count": 19,
      "outputs": [
        {
          "output_type": "execute_result",
          "data": {
            "text/plain": [
              "{'token_usage': {'completion_tokens': 520,\n",
              "  'prompt_tokens': 18,\n",
              "  'total_tokens': 538,\n",
              "  'completion_time': 2.459928376,\n",
              "  'prompt_time': 0.000656519,\n",
              "  'queue_time': 0.200480248,\n",
              "  'total_time': 2.460584895},\n",
              " 'model_name': 'deepseek-r1-distill-llama-70b',\n",
              " 'system_fingerprint': 'fp_1bbe7845ec',\n",
              " 'finish_reason': 'stop',\n",
              " 'logprobs': None}"
            ]
          },
          "metadata": {},
          "execution_count": 19
        }
      ]
    },
    {
      "cell_type": "code",
      "source": [],
      "metadata": {
        "id": "v6wiCoMe14uT"
      },
      "execution_count": null,
      "outputs": []
    }
  ]
}